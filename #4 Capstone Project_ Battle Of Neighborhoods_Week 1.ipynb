{
 "cells": [
  {
   "cell_type": "markdown",
   "metadata": {},
   "source": [
    "# Capstone Project: The Battle of Neighborhoods (Week 4) Project #1"
   ]
  },
  {
   "cell_type": "code",
   "execution_count": 2,
   "metadata": {},
   "outputs": [
    {
     "ename": "ModuleNotFoundError",
     "evalue": "No module named 'geopy'",
     "output_type": "error",
     "traceback": [
      "\u001b[1;31m---------------------------------------------------------------------------\u001b[0m",
      "\u001b[1;31mModuleNotFoundError\u001b[0m                       Traceback (most recent call last)",
      "\u001b[1;32m<ipython-input-2-147d7b74aeba>\u001b[0m in \u001b[0;36m<module>\u001b[1;34m\u001b[0m\n\u001b[0;32m      1\u001b[0m \u001b[1;32mimport\u001b[0m \u001b[0mjson\u001b[0m \u001b[1;31m# library to handle JSON files\u001b[0m\u001b[1;33m\u001b[0m\u001b[1;33m\u001b[0m\u001b[0m\n\u001b[0;32m      2\u001b[0m \u001b[1;33m\u001b[0m\u001b[0m\n\u001b[1;32m----> 3\u001b[1;33m \u001b[1;32mfrom\u001b[0m \u001b[0mgeopy\u001b[0m\u001b[1;33m.\u001b[0m\u001b[0mgeocoders\u001b[0m \u001b[1;32mimport\u001b[0m \u001b[0mNominatim\u001b[0m \u001b[1;31m# convert an address into latitude and longitude values\u001b[0m\u001b[1;33m\u001b[0m\u001b[1;33m\u001b[0m\u001b[0m\n\u001b[0m\u001b[0;32m      4\u001b[0m \u001b[1;33m\u001b[0m\u001b[0m\n\u001b[0;32m      5\u001b[0m \u001b[1;32mimport\u001b[0m \u001b[0mrequests\u001b[0m \u001b[1;31m# library to handle requests\u001b[0m\u001b[1;33m\u001b[0m\u001b[1;33m\u001b[0m\u001b[0m\n",
      "\u001b[1;31mModuleNotFoundError\u001b[0m: No module named 'geopy'"
     ]
    }
   ],
   "source": [
    "import json # library to handle JSON files\n",
    "\n",
    "from geopy.geocoders import Nominatim # convert an address into latitude and longitude values\n",
    "\n",
    "import requests # library to handle requests\n",
    "from pandas.io.json import json_normalize # tranform JSON file into a pandas dataframe\n",
    "\n",
    "# Matplotlib and associated plotting modules\n",
    "%matplotlib inline \n",
    "import matplotlib as mpl\n",
    "import matplotlib.cm as cm\n",
    "import matplotlib.colors as colors\n",
    "import matplotlib.pyplot as plt\n",
    "mpl.style.use('ggplot') # optional: for ggplot-like style\n",
    "\n",
    "# import k-means from clustering stage\n",
    "from sklearn.cluster import KMeans\n",
    "\n",
    "import folium # map rendering library\n",
    "\n",
    "print('Libraries imported.')"
   ]
  },
  {
   "cell_type": "code",
   "execution_count": 4,
   "metadata": {},
   "outputs": [
    {
     "name": "stdout",
     "output_type": "stream",
     "text": [
      "Collecting geopy\n",
      "  Downloading geopy-2.1.0-py3-none-any.whl (112 kB)\n",
      "Collecting geographiclib<2,>=1.49\n",
      "  Using cached geographiclib-1.50-py3-none-any.whl (38 kB)\n",
      "Installing collected packages: geographiclib, geopy\n",
      "Successfully installed geographiclib-1.50 geopy-2.1.0\n"
     ]
    },
    {
     "name": "stderr",
     "output_type": "stream",
     "text": [
      "WARNING: You are using pip version 20.2.4; however, version 20.3.3 is available.\n",
      "You should consider upgrading via the 'c:\\programdata\\anaconda3\\python.exe -m pip install --upgrade pip' command.\n"
     ]
    }
   ],
   "source": [
    "!pip install geopy"
   ]
  },
  {
   "cell_type": "code",
   "execution_count": 3,
   "metadata": {},
   "outputs": [],
   "source": [
    "import pandas as pd\n",
    "import numpy as np"
   ]
  },
  {
   "cell_type": "markdown",
   "metadata": {},
   "source": [
    "### I chose a Project to give simulations for deciding on which type of business to be launched based on the most common venues near the Top Hotels in Paris. Based on the data which you get from Foursquare I tried to see the most common venues and make a list of possible kinds of businesses that can be opened near these venues. \n",
    "\n",
    "### A business will be successful only if in a particular location there is good demand of a particular need, good number of customeers and less number of supplies.\n",
    "\n",
    "### For which I've started to pull the data of the highest possible crowd in Paris that could be either the famous monuments or could be the Hotels where people reside for more days for a business requirement or could be a tour etc.\n",
    "\n",
    "### Gathering the most common venues found near the top hotels in Paris and understanding the essentials in the view of customers or feedback can outcome with a best suggestion for launching a business.\n",
    "\n",
    "### Here, I tried to gather the top hotels and out of which I categorised the 20 most common venues near these venue and conclude the list of possible businesses that could be launched.\n",
    "\n",
    "# 1 : Hotel_data in Paris"
   ]
  },
  {
   "cell_type": "code",
   "execution_count": null,
   "metadata": {},
   "outputs": [],
   "source": [
    "Paris_Hotel_data = pd.read_csv(\"D:/Work/Paris_Hotel_data5.csv\",index_col = 0)\n",
    "Paris_Hotel_data.head()"
   ]
  },
  {
   "cell_type": "code",
   "execution_count": null,
   "metadata": {},
   "outputs": [],
   "source": [
    "# Paris_Hotel_data = Paris_Hotel_data.dropna(how=\"any\", inplace=True)\n",
    "Paris_Hotel_data = Paris_Hotel_data.mask(Paris_Hotel_data.eq('None')).dropna()\n",
    "print(Paris_Hotel_data)"
   ]
  },
  {
   "cell_type": "code",
   "execution_count": null,
   "metadata": {},
   "outputs": [],
   "source": []
  },
  {
   "cell_type": "code",
   "execution_count": null,
   "metadata": {},
   "outputs": [],
   "source": []
  },
  {
   "cell_type": "markdown",
   "metadata": {},
   "source": [
    "# Localise Hotel in the Map"
   ]
  },
  {
   "cell_type": "code",
   "execution_count": null,
   "metadata": {},
   "outputs": [],
   "source": [
    "# Localise places on the map Paris\n",
    "address = 'Paris'\n",
    "\n",
    "geolocator = Nominatim(user_agent=\"my-application\")\n",
    "location = geolocator.geocode(address)\n",
    "latitude = location.latitude\n",
    "longitude = location.longitude\n",
    "print('The geograpical coordinate of Paris are {}, {}.'.format(latitude, longitude))"
   ]
  },
  {
   "cell_type": "code",
   "execution_count": null,
   "metadata": {},
   "outputs": [],
   "source": []
  },
  {
   "cell_type": "code",
   "execution_count": null,
   "metadata": {},
   "outputs": [],
   "source": [
    "# Paris_Hotel_data_dropna = Paris_Hotel_data.reset_index(drop=True)\n",
    "# # toronto_df_dropna.head()\n",
    "# Paris_Hotel_data_dropna.head()"
   ]
  },
  {
   "cell_type": "code",
   "execution_count": null,
   "metadata": {},
   "outputs": [],
   "source": [
    "#create map of Paris using latitude and longitude values\n",
    "map_Paris = folium.Map(location=[latitude, longitude], zoom_start=14)\n",
    "\n",
    "# add markers to map\n",
    "for lat, lng, label in zip(Paris_Hotel_data['lat'], Paris_Hotel_data['lng'], Paris_Hotel_data['Hotel_Name']):\n",
    "    label = folium.Popup(label, parse_html=True)\n",
    "    folium.CircleMarker(\n",
    "        [lat, lng],\n",
    "        radius=10,\n",
    "        popup=label,\n",
    "        color='red',\n",
    "        fill=True,\n",
    "        fill_color='white',\n",
    "        fill_opacity=0.7\n",
    "    ).add_to(map_Paris)  \n",
    "    \n",
    "map_Paris"
   ]
  },
  {
   "cell_type": "markdown",
   "metadata": {},
   "source": [
    "# Define Foursquare Credentials and Version"
   ]
  },
  {
   "cell_type": "code",
   "execution_count": null,
   "metadata": {},
   "outputs": [],
   "source": [
    "#Define Foursquare Credentials and Version\n",
    "CLIENT_ID = 'D0MXEX5Y2KEIYEKEJMXBKTV5T4DSZGIIB52UPAZXGGIZ3J1Z' # your Foursquare ID\n",
    "CLIENT_SECRET = 'T2YE2IKXSGGPYNRYJO2X1IDFNUT23P4MWGIVAS1TCOZ1IEIV' # your Foursquare Secret\n",
    "VERSION = '20180604'\n",
    "#LIMIT = 30\n",
    "\n",
    "print('Your credentails:')\n",
    "print('CLIENT_ID: ' + CLIENT_ID)\n",
    "print('CLIENT_SECRET:' + CLIENT_SECRET)"
   ]
  },
  {
   "cell_type": "code",
   "execution_count": null,
   "metadata": {},
   "outputs": [],
   "source": [
    "from pandas.io.json import json_normalize"
   ]
  },
  {
   "cell_type": "markdown",
   "metadata": {},
   "source": [
    "# Explore all venue's categories in Paris"
   ]
  },
  {
   "cell_type": "code",
   "execution_count": null,
   "metadata": {},
   "outputs": [],
   "source": [
    "def getNearbyVenues(names, latitudes, longitudes, radius=500, LIMIT=100):\n",
    "    \n",
    "    venues_list=[]\n",
    "    for name, lat, lng in zip(names, latitudes, longitudes):\n",
    "        print(name)\n",
    "            \n",
    "        # create the API request URL\n",
    "        url = 'https://api.foursquare.com/v2/venues/explore?&client_id={}&client_secret={}&v={}&ll={},{}&radius={}&limit={}'.format(\n",
    "            CLIENT_ID, \n",
    "            CLIENT_SECRET, \n",
    "            VERSION, \n",
    "            lat, \n",
    "            lng, \n",
    "            radius, \n",
    "            LIMIT)\n",
    "            \n",
    "        # make the GET request\n",
    "        results = requests.get(url).json()[\"response\"]['groups'][0]['items']\n",
    "        \n",
    "        # return only relevant information for each nearby venue\n",
    "        venues_list.append([(\n",
    "            name, \n",
    "            lat, \n",
    "            lng,            \n",
    "            v['venue']['name'], \n",
    "            v['venue']['id'],\n",
    "            v['venue']['location']['lat'], \n",
    "            v['venue']['location']['lng'],  \n",
    "            v['venue']['categories'][0]['name']) for v in results])\n",
    "\n",
    "    nearby_venues = pd.DataFrame([item for venue_list in venues_list for item in venue_list])\n",
    "    nearby_venues.columns = ['Places', \n",
    "                  'Places Latitude', \n",
    "                  'Places Longitude', \n",
    "                  'Venue',\n",
    "                  'Venue id',                \n",
    "                  'Venue Latitude', \n",
    "                  'Venue Longitude', \n",
    "                  'Venue Category'        \n",
    "                   ]\n",
    "    \n",
    "    return(nearby_venues)"
   ]
  },
  {
   "cell_type": "code",
   "execution_count": null,
   "metadata": {},
   "outputs": [],
   "source": [
    "Paris_Hotel_data_venues = getNearbyVenues(names=Paris_Hotel_data['Hotel_Name'],\n",
    "                                   latitudes=Paris_Hotel_data['lat'],longitudes=Paris_Hotel_data['lng'])"
   ]
  },
  {
   "cell_type": "code",
   "execution_count": null,
   "metadata": {},
   "outputs": [],
   "source": [
    "print(Paris_Hotel_data_venues.shape)\n",
    "Paris_Hotel_data_venues.to_csv('D:/Work/file1.csv') "
   ]
  },
  {
   "cell_type": "code",
   "execution_count": null,
   "metadata": {},
   "outputs": [],
   "source": [
    "#Let's check how many venues were returned for each lieux\n",
    "Paris_Hotel_data_venues.groupby('Places').count()"
   ]
  },
  {
   "cell_type": "code",
   "execution_count": null,
   "metadata": {},
   "outputs": [],
   "source": [
    "Paris_Hotel_data_venues1 = Paris_Hotel_data_venues.groupby('Venue Category')\n",
    "Paris_Hotel_data_venues1.head()"
   ]
  },
  {
   "cell_type": "markdown",
   "metadata": {},
   "source": [
    "# Number by Categories at these Places"
   ]
  },
  {
   "cell_type": "code",
   "execution_count": null,
   "metadata": {},
   "outputs": [],
   "source": [
    "df_Hview = Paris_Hotel_data_venues.groupby('Places').count()\n",
    "df_Hotel = df_Hview['Venue Category']\n",
    "df_Hotel"
   ]
  },
  {
   "cell_type": "code",
   "execution_count": null,
   "metadata": {},
   "outputs": [],
   "source": [
    "df_Hotel.plot(kind='barh', figsize=(10,6))\n",
    "\n",
    "#plt.xlabel('name') # add to x-label to the plot\n",
    "#plt.ylabel('Number de categories') # add y-label to the plot\n",
    "plt.title('Number Categories\\' Venue by Places') # add title to the plot\n",
    "\n",
    "for index, value in enumerate(df_Hotel): \n",
    "    label = format(int(value), ',') \n",
    "    plt.annotate(label, xy=(value - 10, index - 0.10), color='white')\n",
    "    \n",
    "plt.show()"
   ]
  },
  {
   "cell_type": "code",
   "execution_count": null,
   "metadata": {},
   "outputs": [],
   "source": [
    "#Let's find out how many unique categories can be curated from all the returned venues¶\n",
    "print('There are {} uniques categories.'.format(len(Paris_Hotel_data_venues['Venue Category'].unique())))\n",
    "print(Paris_Hotel_data_venues['Venue Category'].unique() )"
   ]
  },
  {
   "cell_type": "markdown",
   "metadata": {},
   "source": [
    "# Another Analyses for each venue"
   ]
  },
  {
   "cell_type": "code",
   "execution_count": null,
   "metadata": {},
   "outputs": [],
   "source": [
    "# one hot encoding\n",
    "paris_onehot = pd.get_dummies(Paris_Hotel_data_venues[['Venue Category']], prefix=\"\", prefix_sep=\"\")\n",
    "\n",
    "# add Lieux column back to dataframe\n",
    "paris_onehot['Places'] = Paris_Hotel_data_venues['Places'] \n",
    "\n",
    "# move lieux column to the first column\n",
    "fixed_columns = [paris_onehot.columns[-1]] + list(paris_onehot.columns[:-1])\n",
    "paris_onehot = paris_onehot[fixed_columns]\n",
    "\n",
    "paris_onehot.head()"
   ]
  },
  {
   "cell_type": "code",
   "execution_count": null,
   "metadata": {},
   "outputs": [],
   "source": [
    "paris_onehot.shape"
   ]
  },
  {
   "cell_type": "code",
   "execution_count": null,
   "metadata": {},
   "outputs": [],
   "source": [
    "# Next, \n",
    "# let's group rows by venue\n",
    "# and by taking the mean of the frequency of occurrence of each category\n",
    "paris_grouped = paris_onehot.groupby('Places').mean().reset_index()\n",
    "paris_grouped"
   ]
  },
  {
   "cell_type": "code",
   "execution_count": null,
   "metadata": {},
   "outputs": [],
   "source": [
    "#Let's print each venue along with the top 20 most common venues¶\n",
    "num_top_venues = 20\n",
    "\n",
    "for hood in paris_grouped['Places']:\n",
    "    print(\"----\"+hood+\"----\")\n",
    "    temp = paris_grouped[paris_grouped['Places'] == hood].T.reset_index()\n",
    "    temp.columns = ['venue','freq']\n",
    "    temp = temp.iloc[1:]\n",
    "    temp['freq'] = temp['freq'].astype(float)\n",
    "    temp = temp.round({'freq': 2})\n",
    "    print(temp.sort_values('freq', ascending=False).reset_index(drop=True).head(num_top_venues))\n",
    "    print('\\n')"
   ]
  },
  {
   "cell_type": "code",
   "execution_count": null,
   "metadata": {},
   "outputs": [],
   "source": [
    "#Let's put that into a pandas dataframe\n",
    "def return_most_common_venues(row, num_top_venues):\n",
    "    row_categories = row.iloc[1:]\n",
    "    row_categories_sorted = row_categories.sort_values(ascending=False)\n",
    "    \n",
    "    return row_categories_sorted.index.values[0:num_top_venues]"
   ]
  },
  {
   "cell_type": "code",
   "execution_count": null,
   "metadata": {},
   "outputs": [],
   "source": [
    "#Now let's create the new dataframe \n",
    "#and display the top 20 venues for each.\n",
    "num_top_venues = 20\n",
    "\n",
    "indicators = ['st', 'nd', 'rd']\n",
    "\n",
    "# create columns according to number of top venues\n",
    "columns = ['Places']\n",
    "for ind in np.arange(num_top_venues):\n",
    "    try:\n",
    "        columns.append('{}{} Most Common Venue'.format(ind+1, indicators[ind]))\n",
    "    except:\n",
    "        columns.append('{}th Most Common Venue'.format(ind+1))\n",
    "\n",
    "# create a new dataframe\n",
    "lieux_venues_sorted = pd.DataFrame(columns=columns)\n",
    "lieux_venues_sorted['Places'] = paris_grouped['Places']\n",
    "\n",
    "for ind in np.arange(paris_grouped.shape[0]):\n",
    "    lieux_venues_sorted.iloc[ind, 1:] = return_most_common_venues(paris_grouped.iloc[ind, :], num_top_venues)\n",
    "\n",
    "lieux_venues_sorted"
   ]
  },
  {
   "cell_type": "code",
   "execution_count": null,
   "metadata": {},
   "outputs": [],
   "source": [
    "# set number of clusters\n",
    "kclusters = 3\n",
    "\n",
    "paris_grouped_clustering = paris_grouped.drop('Places', 1)\n",
    "\n",
    "# run k-means clustering\n",
    "kmeans = KMeans(n_clusters=kclusters, random_state=0).fit(paris_grouped_clustering)\n",
    "\n",
    "# check cluster labels generated for each row in the dataframe\n",
    "kmeans.labels_[0:10]"
   ]
  },
  {
   "cell_type": "code",
   "execution_count": null,
   "metadata": {},
   "outputs": [],
   "source": [
    "#Let's create a new dataframe that includes the cluster as well as the top 5 venues for each Lieux.\n",
    "\n",
    "paris_merged = Paris_Hotel_data\n",
    "\n",
    "# add clustering labels\n",
    "paris_merged['Cluster Labels'] = kmeans.labels_[0:10]\n",
    "\n",
    "paris_merged = paris_merged.join(lieux_venues_sorted.set_index('Places'), on='Hotel_Name')\n",
    "paris_merged \n",
    "# check the last columns!"
   ]
  },
  {
   "cell_type": "code",
   "execution_count": null,
   "metadata": {},
   "outputs": [],
   "source": [
    "\n",
    "# create map\n",
    "map_clusters = folium.Map(location=[latitude, longitude], zoom_start=14)\n",
    "\n",
    "# set color scheme for the clusters\n",
    "x = np.arange(kclusters)\n",
    "ys = [i+x+(i*x)**2 for i in range(kclusters)]\n",
    "colors_array = cm.rainbow(np.linspace(0, 1, len(ys)))\n",
    "rainbow = [colors.rgb2hex(i) for i in colors_array]\n",
    "\n",
    "# add markers to the map\n",
    "markers_colors = []\n",
    "for lat, lon, poi, cluster in zip(paris_merged['lat'], paris_merged['lng'], paris_merged['Hotel_Name'], paris_merged['Cluster Labels']):\n",
    "    label = folium.Popup(str(poi) + ' Cluster ' + str(cluster), parse_html=True)\n",
    "    folium.CircleMarker(\n",
    "        [lat, lon],\n",
    "        radius=10,\n",
    "        popup=label,\n",
    "        color=rainbow[cluster-1],\n",
    "        fill=True,\n",
    "        fill_color=rainbow[cluster-1],\n",
    "        fill_opacity=0.7).add_to(map_clusters)\n",
    "       \n",
    "map_clusters"
   ]
  },
  {
   "cell_type": "code",
   "execution_count": null,
   "metadata": {},
   "outputs": [],
   "source": [
    "# Cluster 0 == Hotel L Antonio,H tel Victor Hugo Paris Kl ber Cluster\n",
    "paris_merged.loc[paris_merged['Cluster Labels'] == 0, paris_merged.columns[[1] + list(range(5, paris_merged.shape[1]))]]"
   ]
  },
  {
   "cell_type": "code",
   "execution_count": null,
   "metadata": {},
   "outputs": [],
   "source": [
    "# Cluster 1 == H tel Westminster\n",
    "paris_merged.loc[paris_merged['Cluster Labels'] == 1, paris_merged.columns[[1] + list(range(5, paris_merged.shape[1]))]]"
   ]
  },
  {
   "cell_type": "code",
   "execution_count": null,
   "metadata": {},
   "outputs": [],
   "source": [
    "# Cluster 2 == Novotel Paris Gare De Lyon,Mercure Paris Pigalle Sacre Coeur,H tel Diva Opera\n",
    "paris_merged.loc[paris_merged['Cluster Labels'] == 2, paris_merged.columns[[1] + list(range(5, paris_merged.shape[1]))]]"
   ]
  },
  {
   "cell_type": "markdown",
   "metadata": {},
   "source": [
    "### The most common business we find near the best hotels is the food business. Number of French, Italian restaurants could be found here that includes the coffee bar, resto bar, Gym, Music Venue etc.\n",
    "### Apart from the food related businesses, we have other types of business that maybe found throughout the Paris but not near these venues\n",
    "### so the list of possible ideas could be the '1. Travel and Guide', '2. Gifts/ Cultural Shops', '3. Taxi Businesses', '4. Jewelleries and Accessories Shops', '5. Photography', '6. Unique Imported Wines Business', '7. Sell Beauty and Wellness Products', '8. Natural Food Business' etc.."
   ]
  },
  {
   "cell_type": "code",
   "execution_count": null,
   "metadata": {},
   "outputs": [],
   "source": []
  }
 ],
 "metadata": {
  "kernelspec": {
   "display_name": "Python 3",
   "language": "python",
   "name": "python3"
  },
  "language_info": {
   "codemirror_mode": {
    "name": "ipython",
    "version": 3
   },
   "file_extension": ".py",
   "mimetype": "text/x-python",
   "name": "python",
   "nbconvert_exporter": "python",
   "pygments_lexer": "ipython3",
   "version": "3.8.3"
  }
 },
 "nbformat": 4,
 "nbformat_minor": 2
}
